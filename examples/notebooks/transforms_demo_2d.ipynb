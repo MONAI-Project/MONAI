{
 "cells": [
  {
   "cell_type": "markdown",
   "metadata": {},
   "source": [
    "# 2D image transformation demo\n",
    "\n",
    "This demo shows how to apply 2D transforms in MONAI.\n",
    "Main features:\n",
    "    - Random elastic transforms implemented in native Pytorch\n",
    "    - Easy-to-use interfaces that are designed and implemented in the pythonic way\n",
    "    \n",
    "Find out more in MONAI's wiki page: https://github.com/Project-MONAI/MONAI/wiki"
   ]
  },
  {
   "cell_type": "markdown",
   "metadata": {},
   "source": [
    "## Before running this demo\n",
    "**please download the GLAS (gland segmentation in histology images) challenge data from:**\n",
    "https://warwick.ac.uk/fac/sci/dcs/research/tia/glascontest/download/\n",
    "\n",
    "The dataset used in this competition is provided for research purposes only. Commercial uses are not allowed.\n",
    "\n",
    "If you intend to publish research work that uses this dataset, you must cite our review paper to be published after the competition\n",
    "\n",
    "K. Sirinukunwattana, J. P. W. Pluim, H. Chen, X Qi, P. Heng, Y. Guo, L. Wang, B. J. Matuszewski, E. Bruni, U. Sanchez, A. Böhm, O. Ronneberger, B. Ben Cheikh, D. Racoceanu, P. Kainz, M. Pfeiffer, M. Urschler, D. R. J. Snead, N. M. Rajpoot, \"Gland Segmentation in Colon Histology Images: The GlaS Challenge Contest\" http://arxiv.org/abs/1603.00275 [Preprint]"
   ]
  },
  {
   "cell_type": "markdown",
   "metadata": {},
   "source": [
    "`wget https://warwick.ac.uk/fac/sci/dcs/research/tia/glascontest/download/warwick_qu_dataset_released_2016_07_08.zip`\n",
    "\n",
    "`unzip warwick_qu_dataset_released_2016_07_08.zip`"
   ]
  },
  {
   "cell_type": "code",
   "execution_count": null,
   "metadata": {},
   "outputs": [],
   "source": [
    "%matplotlib inline\n",
    "\n",
    "import sys\n",
    "import torch\n",
    "import numpy as np\n",
    "import matplotlib.pyplot as plt\n",
    "from PIL import Image\n",
    "\n",
    "import monai\n",
    "from monai.transforms import Affine, Rand2DElastic\n",
    "\n",
    "monai.config.print_config()"
   ]
  },
  {
   "cell_type": "code",
   "execution_count": null,
   "metadata": {},
   "outputs": [],
   "source": [
    "img_name = './Warwick QU Dataset (Released 2016_07_08)/train_22.bmp'\n",
    "seg_name = './Warwick QU Dataset (Released 2016_07_08)/train_22_anno.bmp'\n",
    "im = np.array(Image.open(img_name))\n",
    "seg = np.array(Image.open(seg_name))"
   ]
  },
  {
   "cell_type": "code",
   "execution_count": null,
   "metadata": {},
   "outputs": [],
   "source": [
    "f, axes = plt.subplots(1,2)\n",
    "axes[0].imshow(im)\n",
    "axes[1].imshow(seg)\n",
    "print(im.shape, seg.shape)"
   ]
  },
  {
   "cell_type": "markdown",
   "metadata": {},
   "source": [
    "### Affine transformation"
   ]
  },
  {
   "cell_type": "code",
   "execution_count": null,
   "metadata": {},
   "outputs": [],
   "source": [
    "from monai.transforms import Affine\n",
    "\n",
    "# MONAI transforms always take channel-first data: [channel x H x W]\n",
    "im_data = np.moveaxis(im, -1, 0)  # make them channel first\n",
    "seg_data = np.expand_dims(seg, 0)  # make a channel for the segmentation\n",
    "\n",
    "# create an Affine transform\n",
    "affine = Affine(rotate_params=np.pi/4, scale_params=(1.2, 1.2), translate_params=(200, 40), \n",
    "                padding_mode='zeros', device=torch.device('cuda:0'))\n",
    "# convert both image and segmentation using different interpolation mode\n",
    "new_img = affine(im_data, (300, 400), mode='bilinear')\n",
    "new_seg = affine(seg_data, (300, 400), mode='nearest')\n",
    "print(new_img.shape, new_seg.shape)"
   ]
  },
  {
   "cell_type": "code",
   "execution_count": null,
   "metadata": {},
   "outputs": [],
   "source": [
    "f, axes = plt.subplots(1,2)\n",
    "axes[0].imshow(np.moveaxis(new_img.astype(int), 0, -1))\n",
    "axes[1].imshow(new_seg[0].astype(int))"
   ]
  },
  {
   "cell_type": "markdown",
   "metadata": {},
   "source": [
    "### Elastic deformation"
   ]
  },
  {
   "cell_type": "code",
   "execution_count": null,
   "metadata": {},
   "outputs": [],
   "source": [
    "from monai.transforms import Rand2DElastic\n",
    "\n",
    "# create an elsatic deformation transform\n",
    "deform = Rand2DElastic(prob=1.0, spacing=(30, 30), magnitude_range=(5, 6),\n",
    "                       rotate_range=(np.pi/4,), scale_range=(0.2, 0.2), translate_range=(100, 100), \n",
    "                       padding_mode='zeros', device=torch.device('cuda:0'))\n",
    "# transform both image and segmentation using different interpolation mode\n",
    "deform.set_random_state(seed=123)\n",
    "new_img = deform(im_data, (224, 224), mode='bilinear')\n",
    "deform.set_random_state(seed=123)\n",
    "new_seg = deform(seg_data, (224, 224), mode='nearest')\n",
    "print(new_img.shape, new_seg.shape)"
   ]
  },
  {
   "cell_type": "code",
   "execution_count": null,
   "metadata": {},
   "outputs": [],
   "source": [
    "f, axes = plt.subplots(1,2)\n",
    "axes[0].imshow(np.moveaxis(new_img.astype(int), 0, -1))\n",
    "axes[1].imshow(new_seg[0].astype(int))"
   ]
  }
 ],
 "metadata": {
  "kernelspec": {
   "display_name": "Python 3",
   "language": "python",
   "name": "python3"
  },
  "language_info": {
   "codemirror_mode": {
    "name": "ipython",
    "version": 3
   },
   "file_extension": ".py",
   "mimetype": "text/x-python",
   "name": "python",
   "nbconvert_exporter": "python",
   "pygments_lexer": "ipython3",
   "version": "3.6.9"
  }
 },
 "nbformat": 4,
 "nbformat_minor": 2
}