{
 "cells": [
  {
   "cell_type": "code",
   "execution_count": 49,
   "metadata": {},
   "outputs": [],
   "source": [
    "import numpy as np\n",
    "import matplotlib.pyplot as plt\n",
    "sig = np.load('tests/testing_data/signal.npy')\n",
    "sig.shape\n",
    "%matplotlib inline"
   ]
  },
  {
   "cell_type": "code",
   "execution_count": null,
   "metadata": {},
   "outputs": [],
   "source": [
    "from monai.transforms import SignalResample\n",
    "from monai.transforms import SignalRandShift\n",
    "from monai.transforms import Compose"
   ]
  },
  {
   "cell_type": "markdown",
   "metadata": {},
   "source": []
  },
  {
   "cell_type": "code",
   "execution_count": null,
   "metadata": {},
   "outputs": [],
   "source": [
    "tfs = Compose([SignalResample(method='polynomial',current_sample_rate=500,target_sample_rate=250),\n",
    "               SignalRandShift()])"
   ]
  },
  {
   "cell_type": "code",
   "execution_count": null,
   "metadata": {},
   "outputs": [],
   "source": [
    "tfs(sig).shape"
   ]
  },
  {
   "cell_type": "code",
   "execution_count": 50,
   "metadata": {},
   "outputs": [
    {
     "name": "stdout",
     "output_type": "stream",
     "text": [
      "99.99837479796943\n"
     ]
    }
   ],
   "source": [
    "from monai.transforms import RandomizableTransform\n",
    "\n",
    "class RandShiftIntensity100(RandomizableTransform):\n",
    "    def randomize(self):\n",
    "        super().randomize(None)\n",
    "        self._offset = self.R.uniform(low=0, high=100)\n",
    "\n",
    "    def __call__(self, img):\n",
    "        self.randomize()\n",
    "        if not self._do_transform:\n",
    "            return img\n",
    "        return img + self._offset\n",
    "\n",
    "transform = RandShiftIntensity100()\n",
    "transform.set_random_state()\n",
    "print(transform(10))"
   ]
  },
  {
   "cell_type": "code",
   "execution_count": null,
   "metadata": {},
   "outputs": [],
   "source": []
  },
  {
   "cell_type": "code",
   "execution_count": 93,
   "metadata": {},
   "outputs": [],
   "source": [
    "import numpy as np\n",
    "from typing import Sequence, Optional, Union, Any\n",
    "from monai.transforms.transform import Transform\n",
    "from monai.utils import optional_import\n",
    "from monai.utils.enums import TransformBackends\n",
    "\n",
    "zoom, has_zoom = optional_import(\"scipy.ndimage\", name=\"zoom\")\n",
    "resample_poly, has_resample_poly = optional_import(\"scipy.signal\", name=\"resample_poly\")\n",
    "fft, has_resample_fft = optional_import(\"scipy.signal\", name=\"resample\")\n",
    "shift, has_shift = optional_import(\"scipy.ndimage.interpolation\", name=\"shift\")\n",
    "\n",
    "assert has_zoom\n",
    "assert has_resample_poly\n",
    "assert has_resample_poly\n",
    "assert has_resample_fft\n",
    "assert has_shift\n",
    "\n",
    "class SignalRandShift(RandomizableTransform):\n",
    "    \"\"\"\n",
    "    Apply a random shift on a signal\n",
    "    \"\"\"\n",
    "    backend = [TransformBackends.NUMPY]\n",
    "        \n",
    "    def __init__(\n",
    "        self, \n",
    "        mode: str='wrap',\n",
    "        filling: Optional[Union[np.ndarray,Any]] = 0.0,\n",
    "        v: float = 1.0, \n",
    "        boundaries: Optional[Union[np.ndarray,Any]] = [-1.0,1,0],\n",
    "        *args, \n",
    "        **kwargs\n",
    "    ) -> None:\n",
    "        super(SignalRandShift,self).__init__()\n",
    "        \"\"\"\n",
    "        Args:\n",
    "            mode: define how the extension of the input array is done beyond its boundaries, see for more details for possible values\n",
    "            https://docs.scipy.org/doc/scipy/reference/generated/scipy.ndimage.shift.html\n",
    "            filling: value to fill past edges of input if mode is ‘constant’. Default is 0.0. see for mode details\n",
    "            https://docs.scipy.org/doc/scipy/reference/generated/scipy.ndimage.shift.html\n",
    "            v: scaling factor\n",
    "            boundaries: range of the signal shift, taken randomly in the defined range. Defaults to ``[-1.0, 1.0]``\n",
    "        \"\"\"    \n",
    "        \n",
    "        self.filling = filling\n",
    "        self.mode = mode\n",
    "        self.v = v\n",
    "        self.boundaries = boundaries\n",
    "        \n",
    "    def randomize(self):\n",
    "        super().randomize(None)\n",
    "        self.magnitude = self.R.uniform(low=self.boundaries[0],high=self.boundaries[1])\n",
    "        \n",
    "    def __call__(self, signal: np.ndarray) -> np.ndarray:\n",
    "        \"\"\"\n",
    "        Args:\n",
    "            signal: input 1 dimension signal to be resampled\n",
    "        \"\"\"\n",
    "        self.randomize()\n",
    "        if len(signal.shape) == 1:\n",
    "            signal = np.expand_dims(signal, axis=0)  \n",
    "        length = signal.shape[1]\n",
    "        factor = self.v * self.magnitude\n",
    "        shift_idx = round(factor * length)\n",
    "        signal = shift(input=signal,\n",
    "                       mode=self.mode,\n",
    "                       shift=shift_idx, \n",
    "                       cval=self.filling)\n",
    "        \n",
    "        return signal"
   ]
  },
  {
   "cell_type": "code",
   "execution_count": 97,
   "metadata": {},
   "outputs": [],
   "source": [
    "t = SignalRandShift(boundaries=[-.5,.5])"
   ]
  },
  {
   "cell_type": "code",
   "execution_count": 98,
   "metadata": {},
   "outputs": [
    {
     "data": {
      "text/plain": [
       "array([[ 0.1941886 ,  0.19580679,  0.19585417, ...,  0.19525363,\n",
       "         0.19386567,  0.1941886 ],\n",
       "       [-0.11469602, -0.11522655, -0.11479264, ..., -0.11599481,\n",
       "        -0.1157399 , -0.11469602],\n",
       "       [-0.02791589, -0.02847878, -0.02884416, ..., -0.02754898,\n",
       "        -0.02691086, -0.02791589],\n",
       "       [-0.09093187, -0.0918969 , -0.09214413, ..., -0.09110427,\n",
       "        -0.09017903, -0.09093187],\n",
       "       [ 0.03716419,  0.03707249,  0.03664558, ...,  0.03800022,\n",
       "         0.03826782,  0.03716419],\n",
       "       [ 0.1941886 ,  0.19580679,  0.19585417, ...,  0.19525363,\n",
       "         0.19386567,  0.1941886 ]], dtype=float32)"
      ]
     },
     "execution_count": 98,
     "metadata": {},
     "output_type": "execute_result"
    }
   ],
   "source": [
    "t(sig)"
   ]
  },
  {
   "cell_type": "code",
   "execution_count": 99,
   "metadata": {},
   "outputs": [
    {
     "data": {
      "text/plain": [
       "[-0.5, 0.5]"
      ]
     },
     "execution_count": 99,
     "metadata": {},
     "output_type": "execute_result"
    }
   ],
   "source": [
    "t.boundaries"
   ]
  },
  {
   "cell_type": "code",
   "execution_count": 103,
   "metadata": {},
   "outputs": [
    {
     "data": {
      "text/plain": [
       "[<matplotlib.lines.Line2D at 0x7fc23c171f10>]"
      ]
     },
     "execution_count": 103,
     "metadata": {},
     "output_type": "execute_result"
    },
    {
     "data": {
      "image/png": "[encoded data removed]",
      "text/plain": [
       "<Figure size 1152x432 with 1 Axes>"
      ]
     },
     "metadata": {
      "needs_background": "light"
     },
     "output_type": "display_data"
    }
   ],
   "source": [
    "plt.figure(figsize=(16,6))\n",
    "plt.plot(t(sig)[0,:])"
   ]
  },
  {
   "cell_type": "code",
   "execution_count": null,
   "metadata": {},
   "outputs": [],
   "source": []
  },
  {
   "cell_type": "code",
   "execution_count": null,
   "metadata": {},
   "outputs": [],
   "source": []
  }
 ],
 "metadata": {
  "interpreter": {
   "hash": "2e5a21025fc49def970e0e4b522adbbe1ac256cb17b5a32846b68d1951a90958"
  },
  "kernelspec": {
   "display_name": "Python 3",
   "language": "python",
   "name": "python3"
  },
  "language_info": {
   "codemirror_mode": {
    "name": "ipython",
    "version": 3
   },
   "file_extension": ".py",
   "mimetype": "text/x-python",
   "name": "python",
   "nbconvert_exporter": "python",
   "pygments_lexer": "ipython3",
   "version": "3.8.13"
  }
 },
 "nbformat": 4,
 "nbformat_minor": 2
}
