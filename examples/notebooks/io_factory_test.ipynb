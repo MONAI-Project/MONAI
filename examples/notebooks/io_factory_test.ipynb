{
 "cells": [
  {
   "cell_type": "markdown",
   "metadata": {},
   "source": [
    "# IO factory test notebook\n",
    "This notebook shows the basic usage of `ImageLoad`, `ITKReader` and `NibabelReader` for Nifti and PNG data.\n",
    "\n",
    "[![Open In Colab](https://colab.research.google.com/assets/colab-badge.svg)](https://colab.research.google.com/github/Project-MONAI/MONAI/blob/master/examples/notebooks/io_factory_test.ipynb)"
   ]
  },
  {
   "cell_type": "markdown",
   "metadata": {},
   "source": [
    "## Setup environment"
   ]
  },
  {
   "cell_type": "code",
   "execution_count": 2,
   "metadata": {
    "tags": []
   },
   "outputs": [
    {
     "name": "stdout",
     "output_type": "stream",
     "text": [
      "\u001b[33m  WARNING: monai 0.2.0 does not provide the extra 'itk'\u001b[0m\n",
      "Note: you may need to restart the kernel to use updated packages.\n"
     ]
    }
   ],
   "source": [
    "%pip install -qU \"monai[itk, nibabel]\""
   ]
  },
  {
   "cell_type": "code",
   "execution_count": null,
   "metadata": {},
   "outputs": [],
   "source": [
    "# temporarily need this, FIXME remove when MONAI v0.3 released\n",
    "%pip install -qU git+https://github.com/Project-MONAI/MONAI#egg=MONAI\n",
    "%pip install itk"
   ]
  },
  {
   "cell_type": "markdown",
   "metadata": {},
   "source": [
    "## Setup imports"
   ]
  },
  {
   "cell_type": "code",
   "execution_count": 5,
   "metadata": {
    "tags": []
   },
   "outputs": [
    {
     "name": "stdout",
     "output_type": "stream",
     "text": [
      "MONAI version: 0.1.0+335.g0b3eac7.dirty\n",
      "Python version: 3.6.9 |Anaconda, Inc.| (default, Jul 30 2019, 19:07:31)  [GCC 7.3.0]\n",
      "Numpy version: 1.18.1\n",
      "Pytorch version: 1.5.0a0+8f84ded\n",
      "\n",
      "Optional dependencies:\n",
      "Pytorch Ignite version: 0.3.0\n",
      "Nibabel version: 3.1.1\n",
      "scikit-image version: 0.15.0\n",
      "Pillow version: 7.2.0\n",
      "Tensorboard version: 2.1.0\n",
      "gdown version: 3.12.0\n",
      "ITK version: 5.1.1\n",
      "\n",
      "For details about installing the optional dependencies, please visit:\n",
      "    https://docs.monai.io/en/latest/installation.html#installing-the-recommended-dependencies\n",
      "\n"
     ]
    }
   ],
   "source": [
    "# Copyright 2020 MONAI Consortium\n",
    "# Licensed under the Apache License, Version 2.0 (the \"License\");\n",
    "# you may not use this file except in compliance with the License.\n",
    "# You may obtain a copy of the License at\n",
    "#     http://www.apache.org/licenses/LICENSE-2.0\n",
    "# Unless required by applicable law or agreed to in writing, software\n",
    "# distributed under the License is distributed on an \"AS IS\" BASIS,\n",
    "# WITHOUT WARRANTIES OR CONDITIONS OF ANY KIND, either express or implied.\n",
    "# See the License for the specific language governing permissions and\n",
    "# limitations under the License.\n",
    "\n",
    "import torch\n",
    "\n",
    "from monai.config import print_config\n",
    "from monai.transforms import LoadImage\n",
    "from monai.data import NibabelReader\n",
    "print_config()"
   ]
  },
  {
   "cell_type": "markdown",
   "metadata": {},
   "source": [
    "## Test loading Nifti files with ITK"
   ]
  },
  {
   "cell_type": "code",
   "execution_count": 2,
   "metadata": {},
   "outputs": [],
   "source": [
    "filename = \"/workspace/data/medical/Task09_Spleen/imagesTr/spleen_10.nii.gz\"\n",
    "loader = LoadImage()\n",
    "data, meta = loader(filename)"
   ]
  },
  {
   "cell_type": "code",
   "execution_count": 3,
   "metadata": {},
   "outputs": [
    {
     "name": "stdout",
     "output_type": "stream",
     "text": [
      "{'ITK_FileNotes': '5.0.10', 'aux_file': '', 'bitpix': '32', 'cal_max': '0', 'cal_min': '0', 'datatype': '16', 'descrip': '5.0.10', 'dim[0]': '3', 'dim[1]': '512', 'dim[2]': '512', 'dim[3]': '55', 'dim[4]': '1', 'dim[5]': '1', 'dim[6]': '1', 'dim[7]': '1', 'dim_info': '0', 'intent_code': '0', 'intent_name': '', 'intent_p1': '0', 'intent_p2': '0', 'intent_p3': '0', 'nifti_type': '1', 'pixdim[0]': '0', 'pixdim[1]': '0.976562', 'pixdim[2]': '0.976562', 'pixdim[3]': '5', 'pixdim[4]': '0', 'pixdim[5]': '0', 'pixdim[6]': '0', 'pixdim[7]': '0', 'qform_code': '1', 'qform_code_name': 'NIFTI_XFORM_SCANNER_ANAT', 'qoffset_x': '-499.023', 'qoffset_y': '-499.023', 'qoffset_z': '0', 'quatern_b': '0', 'quatern_c': '0', 'quatern_d': '0', 'scl_inter': '0', 'scl_slope': '1', 'sform_code': '1', 'sform_code_name': 'NIFTI_XFORM_SCANNER_ANAT', 'slice_code': '0', 'slice_duration': '0', 'slice_end': '0', 'slice_start': '0', 'srow_x': '0.976562 0 0 -499.023', 'srow_y': '0 0.976562 0 -499.023', 'srow_z': '0 0 5 0', 'toffset': '0', 'vox_offset': '352', 'xyzt_units': '10', 'origin': array([499.02319336, 499.02319336,   0.        ]), 'spacing': array([0.97656202, 0.97656202, 5.        ]), 'direction': array([[-1.,  0.,  0.],\n",
      "       [ 0., -1.,  0.],\n",
      "       [ 0.,  0.,  1.]]), 'filename_or_obj': '/workspace/data/medical/Task09_Spleen/imagesTr/spleen_10.nii.gz', 'original_affine': array([[ -0.97656202,   0.        ,   0.        , 499.02319336],\n",
      "       [  0.        ,  -0.97656202,   0.        , 499.02319336],\n",
      "       [  0.        ,   0.        ,   5.        ,   0.        ],\n",
      "       [  0.        ,   0.        ,   0.        ,   1.        ]]), 'affine': array([[ -0.97656202,   0.        ,   0.        , 499.02319336],\n",
      "       [  0.        ,  -0.97656202,   0.        , 499.02319336],\n",
      "       [  0.        ,   0.        ,   5.        ,   0.        ],\n",
      "       [  0.        ,   0.        ,   0.        ,   1.        ]]), 'spatial_shape': [512, 512, 55]}\n"
     ]
    }
   ],
   "source": [
    "print(meta)"
   ]
  },
  {
   "cell_type": "code",
   "execution_count": 4,
   "metadata": {},
   "outputs": [
    {
     "name": "stdout",
     "output_type": "stream",
     "text": [
      "(512, 512, 55)\n"
     ]
    }
   ],
   "source": [
    "print(data.shape)"
   ]
  },
  {
   "cell_type": "markdown",
   "metadata": {},
   "source": [
    "## Test loading JPEG files with ITK"
   ]
  },
  {
   "cell_type": "code",
   "execution_count": 6,
   "metadata": {},
   "outputs": [],
   "source": [
    "filename = \"/workspace/data/medical/MedNIST/Hand/008334.jpeg\"\n",
    "loader = LoadImage()\n",
    "data, meta = loader(filename)"
   ]
  },
  {
   "cell_type": "code",
   "execution_count": 7,
   "metadata": {},
   "outputs": [
    {
     "name": "stdout",
     "output_type": "stream",
     "text": [
      "{'origin': array([0., 0.]), 'spacing': array([1., 1.]), 'direction': array([[1., 0.],\n",
      "       [0., 1.]]), 'filename_or_obj': '/workspace/data/medical/MedNIST/Hand/008334.jpeg', 'original_affine': array([[1., 0., 0.],\n",
      "       [0., 1., 0.],\n",
      "       [0., 0., 1.]]), 'affine': array([[1., 0., 0.],\n",
      "       [0., 1., 0.],\n",
      "       [0., 0., 1.]]), 'spatial_shape': [64, 64]}\n"
     ]
    }
   ],
   "source": [
    "print(meta)"
   ]
  },
  {
   "cell_type": "code",
   "execution_count": 8,
   "metadata": {},
   "outputs": [
    {
     "name": "stdout",
     "output_type": "stream",
     "text": [
      "(64, 64)\n"
     ]
    }
   ],
   "source": [
    "print(data.shape)"
   ]
  },
  {
   "cell_type": "markdown",
   "metadata": {},
   "source": [
    "## Test loading Nifti files with Nibabel"
   ]
  },
  {
   "cell_type": "code",
   "execution_count": 2,
   "metadata": {},
   "outputs": [],
   "source": [
    "filename = \"/workspace/data/medical/Task09_Spleen/imagesTr/spleen_10.nii.gz\"\n",
    "loader = LoadImage(NibabelReader())\n",
    "data, meta = loader(filename)"
   ]
  },
  {
   "cell_type": "code",
   "execution_count": 3,
   "metadata": {},
   "outputs": [
    {
     "name": "stdout",
     "output_type": "stream",
     "text": [
      "{'sizeof_hdr': array(348, dtype=int32), 'data_type': array(b'', dtype='|S10'), 'db_name': array(b'', dtype='|S18'), 'extents': array(0, dtype=int32), 'session_error': array(0, dtype=int16), 'regular': array(b'r', dtype='|S1'), 'dim_info': array(0, dtype=uint8), 'dim': array([  3, 512, 512,  55,   1,   1,   1,   1], dtype=int16), 'intent_p1': array(0., dtype=float32), 'intent_p2': array(0., dtype=float32), 'intent_p3': array(0., dtype=float32), 'intent_code': array(0, dtype=int16), 'datatype': array(16, dtype=int16), 'bitpix': array(32, dtype=int16), 'slice_start': array(0, dtype=int16), 'pixdim': array([1.      , 0.976562, 0.976562, 5.      , 0.      , 0.      ,\n",
      "       0.      , 0.      ], dtype=float32), 'vox_offset': array(0., dtype=float32), 'scl_slope': array(nan, dtype=float32), 'scl_inter': array(nan, dtype=float32), 'slice_end': array(0, dtype=int16), 'slice_code': array(0, dtype=uint8), 'xyzt_units': array(10, dtype=uint8), 'cal_max': array(0., dtype=float32), 'cal_min': array(0., dtype=float32), 'slice_duration': array(0., dtype=float32), 'toffset': array(0., dtype=float32), 'glmax': array(0, dtype=int32), 'glmin': array(0, dtype=int32), 'descrip': array(b'5.0.10', dtype='|S80'), 'aux_file': array(b'', dtype='|S24'), 'qform_code': array(1, dtype=int16), 'sform_code': array(1, dtype=int16), 'quatern_b': array(0., dtype=float32), 'quatern_c': array(0., dtype=float32), 'quatern_d': array(0., dtype=float32), 'qoffset_x': array(-499.0232, dtype=float32), 'qoffset_y': array(-499.0232, dtype=float32), 'qoffset_z': array(0., dtype=float32), 'srow_x': array([   0.976562,    0.      ,    0.      , -499.0232  ], dtype=float32), 'srow_y': array([   0.      ,    0.976562,    0.      , -499.0232  ], dtype=float32), 'srow_z': array([0., 0., 5., 0.], dtype=float32), 'intent_name': array(b'', dtype='|S16'), 'magic': array(b'n+1', dtype='|S4'), 'as_closest_canonical': False, 'filename_or_obj': '/workspace/data/medical/Task09_Spleen/imagesTr/spleen_10.nii.gz', 'original_affine': array([[   0.97656202,    0.        ,    0.        , -499.02319336],\n",
      "       [   0.        ,    0.97656202,    0.        , -499.02319336],\n",
      "       [   0.        ,    0.        ,    5.        ,    0.        ],\n",
      "       [   0.        ,    0.        ,    0.        ,    1.        ]]), 'affine': array([[   0.97656202,    0.        ,    0.        , -499.02319336],\n",
      "       [   0.        ,    0.97656202,    0.        , -499.02319336],\n",
      "       [   0.        ,    0.        ,    5.        ,    0.        ],\n",
      "       [   0.        ,    0.        ,    0.        ,    1.        ]]), 'spatial_shape': array([512, 512,  55], dtype=int16)}\n"
     ]
    }
   ],
   "source": [
    "print(meta)"
   ]
  },
  {
   "cell_type": "code",
   "execution_count": 4,
   "metadata": {},
   "outputs": [
    {
     "name": "stdout",
     "output_type": "stream",
     "text": [
      "(512, 512, 55)\n"
     ]
    }
   ],
   "source": [
    "print(data.shape)"
   ]
  }
 ],
 "metadata": {
  "kernelspec": {
   "display_name": "Python 3",
   "language": "python",
   "name": "python3"
  },
  "language_info": {
   "codemirror_mode": {
    "name": "ipython",
    "version": 3
   },
   "file_extension": ".py",
   "mimetype": "text/x-python",
   "name": "python",
   "nbconvert_exporter": "python",
   "pygments_lexer": "ipython3",
   "version": "3.6.9"
  }
 },
 "nbformat": 4,
 "nbformat_minor": 4
}
