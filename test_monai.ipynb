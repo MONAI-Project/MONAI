{
 "cells": [
  {
   "cell_type": "code",
   "execution_count": 13,
   "metadata": {},
   "outputs": [],
   "source": [
    "import numpy as np\n",
    "import matplotlib.pyplot as plt\n",
    "%matplotlib inline"
   ]
  },
  {
   "cell_type": "code",
   "execution_count": 14,
   "metadata": {},
   "outputs": [
    {
     "data": {
      "text/plain": [
       "(6, 2000)"
      ]
     },
     "execution_count": 14,
     "metadata": {},
     "output_type": "execute_result"
    }
   ],
   "source": [
    "sig = np.load('tests/testing_data/signal.npy')\n",
    "sig.shape"
   ]
  },
  {
   "cell_type": "code",
   "execution_count": 15,
   "metadata": {},
   "outputs": [],
   "source": [
    "from monai.transforms.signal.array import SignalResample"
   ]
  },
  {
   "cell_type": "code",
   "execution_count": null,
   "metadata": {},
   "outputs": [],
   "source": [
    "tfs = SignalResample(method='poly',current_sample_rate=500,target_sample_rate=250)"
   ]
  },
  {
   "cell_type": "code",
   "execution_count": null,
   "metadata": {},
   "outputs": [],
   "source": [
    "tfs(sig).shape"
   ]
  },
  {
   "cell_type": "code",
   "execution_count": null,
   "metadata": {},
   "outputs": [],
   "source": [
    "test = np.expand_dims(sig[0,:],axis=0);test.shape"
   ]
  },
  {
   "cell_type": "code",
   "execution_count": null,
   "metadata": {},
   "outputs": [],
   "source": [
    "tfs(test).shape"
   ]
  },
  {
   "cell_type": "code",
   "execution_count": null,
   "metadata": {},
   "outputs": [],
   "source": [
    " np.stack([zoom(test[i,:], 250 / 500) for i in range(1)]).shape"
   ]
  },
  {
   "cell_type": "code",
   "execution_count": null,
   "metadata": {},
   "outputs": [],
   "source": [
    "target_length"
   ]
  },
  {
   "cell_type": "code",
   "execution_count": null,
   "metadata": {},
   "outputs": [],
   "source": [
    "test.shape"
   ]
  },
  {
   "cell_type": "code",
   "execution_count": null,
   "metadata": {},
   "outputs": [],
   "source": [
    "np.stack([zoom(test[i,:], target_length / len(sig)) for i in range(inputs_channels)])"
   ]
  },
  {
   "cell_type": "code",
   "execution_count": null,
   "metadata": {},
   "outputs": [],
   "source": []
  },
  {
   "cell_type": "code",
   "execution_count": null,
   "metadata": {},
   "outputs": [],
   "source": [
    "tfs_sig = tfs(sig[0,:])\n",
    "tfs_sig.shape"
   ]
  },
  {
   "cell_type": "code",
   "execution_count": null,
   "metadata": {},
   "outputs": [],
   "source": [
    "plt.figure(figsize=(16,6))\n",
    "plt.plot(tfs_sig[0,:])"
   ]
  },
  {
   "cell_type": "code",
   "execution_count": null,
   "metadata": {},
   "outputs": [],
   "source": [
    "np.save('tests/testing_data/signal.npy',tfs_sig)"
   ]
  },
  {
   "cell_type": "code",
   "execution_count": null,
   "metadata": {},
   "outputs": [],
   "source": [
    "plt.figure(figsize=(16,6))\n",
    "plt.plot([np.math.sin(x) for x in np.arange(0,100,0.1)])"
   ]
  },
  {
   "cell_type": "code",
   "execution_count": null,
   "metadata": {},
   "outputs": [],
   "source": []
  },
  {
   "cell_type": "code",
   "execution_count": null,
   "metadata": {},
   "outputs": [],
   "source": []
  },
  {
   "cell_type": "code",
   "execution_count": null,
   "metadata": {},
   "outputs": [],
   "source": [
    "%%writefile test_signal.py\n",
    "import os\n",
    "from parameterized import parameterized\n",
    "import unittest\n",
    "import numpy as np\n",
    "from monai.transforms.signal.array import SignalResample\n",
    "\n",
    "TEST_SIGNAL = os.path.join(os.path.dirname(__file__), \"tests/testing_data\", \"signal.npy\")\n",
    "\n",
    "\n",
    "VALID_CASES = [('interpolation',500,250),('poly',1000,250),('fft',500,250)]\n",
    "\n",
    "class TestSignalResample(unittest.TestCase):\n",
    "        \n",
    "    @parameterized.expand(VALID_CASES)\n",
    "    def test_correct_parameters(self,method,current_sample_rate,target_sample_rate):\n",
    "        self.assertIsInstance(SignalResample(method,current_sample_rate,target_sample_rate),SignalResample)\n",
    "        self.assertGreaterEqual(current_sample_rate,target_sample_rate)\n",
    "        self.assertIn(method,['interpolation','poly','fft'])\n",
    "        sig = np.load(TEST_SIGNAL)\n",
    "        Resampled = SignalResample(method,current_sample_rate,target_sample_rate)\n",
    "        ResampledSignal = Resampled(sig)                     \n",
    "        self.assertEqual(len(ResampledSignal),len(sig))\n",
    "    \n",
    "if __name__ == '__main__':\n",
    "    unittest.main()"
   ]
  },
  {
   "cell_type": "code",
   "execution_count": null,
   "metadata": {},
   "outputs": [],
   "source": [
    "!python ~/NextGen/ANTECH/MONAI/test_signal.py -v"
   ]
  },
  {
   "cell_type": "code",
   "execution_count": null,
   "metadata": {},
   "outputs": [],
   "source": []
  },
  {
   "cell_type": "code",
   "execution_count": null,
   "metadata": {},
   "outputs": [],
   "source": []
  }
 ],
 "metadata": {
  "interpreter": {
   "hash": "2e5a21025fc49def970e0e4b522adbbe1ac256cb17b5a32846b68d1951a90958"
  },
  "kernelspec": {
   "display_name": "Python 3",
   "language": "python",
   "name": "python3"
  },
  "language_info": {
   "codemirror_mode": {
    "name": "ipython",
    "version": 3
   },
   "file_extension": ".py",
   "mimetype": "text/x-python",
   "name": "python",
   "nbconvert_exporter": "python",
   "pygments_lexer": "ipython3",
   "version": "3.8.13"
  }
 },
 "nbformat": 4,
 "nbformat_minor": 2
}
