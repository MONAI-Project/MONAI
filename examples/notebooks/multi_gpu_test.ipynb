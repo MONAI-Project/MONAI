{
 "cells": [
  {
   "cell_type": "code",
   "execution_count": null,
   "metadata": {},
   "outputs": [],
   "source": [
    "import sys\n",
    "\n",
    "import torch\n",
    "import torch.nn as nn\n",
    "from torch.utils.data import DataLoader\n",
    "import numpy as np\n",
    "from ignite.engine import create_supervised_trainer\n",
    "from ignite.engine.engine import Events\n",
    "from ignite.handlers import ModelCheckpoint\n",
    "\n",
    "import monai\n",
    "monai.config.print_config()"
   ]
  },
  {
   "cell_type": "code",
   "execution_count": null,
   "metadata": {},
   "outputs": [],
   "source": [
    "lr = 1e-3\n",
    "\n",
    "net = monai.networks.nets.UNet(\n",
    "    dimensions=2,\n",
    "    in_channels=1,\n",
    "    out_channels=1,\n",
    "    channels=(16, 32, 64, 128, 256),\n",
    "    strides=(2, 2, 2, 2),\n",
    "    num_res_units=2,\n",
    ")\n",
    "\n",
    "\n",
    "def fake_loss(y_pred,y):\n",
    "    return (y_pred[0]+y).sum()\n",
    "\n",
    "\n",
    "def fake_data_stream():\n",
    "    while True:\n",
    "        yield torch.rand((10,1,64,64)),torch.rand((10,1,64,64))\n",
    "        \n",
    "        \n",
    "# 1 GPU\n",
    "opt = torch.optim.Adam(net.parameters(), lr)\n",
    "trainer=monai.engines.create_multigpu_supervised_trainer(net,opt,fake_loss,[torch.device('cuda:0')])\n",
    "trainer.run(fake_data_stream(),2,2)\n",
    "\n",
    "# all GPUs\n",
    "opt = torch.optim.Adam(net.parameters(), lr)\n",
    "trainer=monai.engines.create_multigpu_supervised_trainer(net,opt,fake_loss,None)\n",
    "trainer.run(fake_data_stream(),2,2)\n",
    "\n",
    "# CPU\n",
    "opt = torch.optim.Adam(net.parameters(), lr)\n",
    "trainer=monai.engines.create_multigpu_supervised_trainer(net,opt,fake_loss,[])\n",
    "trainer.run(fake_data_stream(),2,2)"
   ]
  }
 ],
 "metadata": {
  "kernelspec": {
   "display_name": "Python 3",
   "language": "python",
   "name": "python3"
  },
  "language_info": {
   "codemirror_mode": {
    "name": "ipython",
    "version": 3
   },
   "file_extension": ".py",
   "mimetype": "text/x-python",
   "name": "python",
   "nbconvert_exporter": "python",
   "pygments_lexer": "ipython3",
   "version": "3.6.9"
  }
 },
 "nbformat": 4,
 "nbformat_minor": 4
}