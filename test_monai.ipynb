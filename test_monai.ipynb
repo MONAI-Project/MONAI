{
 "cells": [
  {
   "cell_type": "code",
   "execution_count": 32,
   "metadata": {},
   "outputs": [],
   "source": [
    "import numpy as np\n",
    "import matplotlib.pyplot as plt\n",
    "%matplotlib inline"
   ]
  },
  {
   "cell_type": "code",
   "execution_count": 33,
   "metadata": {},
   "outputs": [
    {
     "data": {
      "text/plain": [
       "(6, 2000)"
      ]
     },
     "execution_count": 33,
     "metadata": {},
     "output_type": "execute_result"
    }
   ],
   "source": [
    "sig = np.load('tests/testing_data/signal.npy')\n",
    "sig.shape"
   ]
  },
  {
   "cell_type": "code",
   "execution_count": 39,
   "metadata": {},
   "outputs": [
    {
     "ename": "ImportError",
     "evalue": "cannot import name 'SignalRandShift' from 'monai.transforms' (/Users/doursand/NextGen/ANTECH/MONAI/monai/transforms/__init__.py)",
     "output_type": "error",
     "traceback": [
      "\u001b[0;31m---------------------------------------------------------------------------\u001b[0m",
      "\u001b[0;31mImportError\u001b[0m                               Traceback (most recent call last)",
      "\u001b[1;32m/Users/doursand/NextGen/ANTECH/MONAI/test_monai.ipynb Cell 3'\u001b[0m in \u001b[0;36m<cell line: 2>\u001b[0;34m()\u001b[0m\n\u001b[1;32m      <a href='vscode-notebook-cell:/Users/doursand/NextGen/ANTECH/MONAI/test_monai.ipynb#ch0000002?line=0'>1</a>\u001b[0m \u001b[39mfrom\u001b[39;00m \u001b[39mmonai\u001b[39;00m\u001b[39m.\u001b[39;00m\u001b[39mtransforms\u001b[39;00m \u001b[39mimport\u001b[39;00m SignalResample\n\u001b[0;32m----> <a href='vscode-notebook-cell:/Users/doursand/NextGen/ANTECH/MONAI/test_monai.ipynb#ch0000002?line=1'>2</a>\u001b[0m \u001b[39mfrom\u001b[39;00m \u001b[39mmonai\u001b[39;00m\u001b[39m.\u001b[39;00m\u001b[39mtransforms\u001b[39;00m \u001b[39mimport\u001b[39;00m SignalRandShift\n",
      "\u001b[0;31mImportError\u001b[0m: cannot import name 'SignalRandShift' from 'monai.transforms' (/Users/doursand/NextGen/ANTECH/MONAI/monai/transforms/__init__.py)"
     ]
    }
   ],
   "source": [
    "from monai.transforms import SignalResample\n",
    "from monai.transforms import SignalRandShift"
   ]
  },
  {
   "cell_type": "code",
   "execution_count": null,
   "metadata": {},
   "outputs": [],
   "source": [
    "tfs = SignalResample(method='polynomial',current_sample_rate=500,target_sample_rate=250)"
   ]
  },
  {
   "cell_type": "markdown",
   "metadata": {},
   "source": []
  },
  {
   "cell_type": "code",
   "execution_count": null,
   "metadata": {},
   "outputs": [],
   "source": []
  },
  {
   "cell_type": "code",
   "execution_count": null,
   "metadata": {},
   "outputs": [],
   "source": [
    "tfs(sig).shape"
   ]
  },
  {
   "cell_type": "code",
   "execution_count": null,
   "metadata": {},
   "outputs": [],
   "source": [
    "test = np.expand_dims(sig[0,:],axis=0);test.shape"
   ]
  },
  {
   "cell_type": "code",
   "execution_count": null,
   "metadata": {},
   "outputs": [],
   "source": [
    "tfs(test).shape"
   ]
  },
  {
   "cell_type": "code",
   "execution_count": null,
   "metadata": {},
   "outputs": [],
   "source": [
    "tfs_sig = tfs(sig[0,:])\n",
    "tfs_sig.shape"
   ]
  },
  {
   "cell_type": "code",
   "execution_count": null,
   "metadata": {},
   "outputs": [],
   "source": [
    "plt.figure(figsize=(16,6))\n",
    "plt.plot(tfs_sig[0,:])"
   ]
  },
  {
   "cell_type": "code",
   "execution_count": null,
   "metadata": {},
   "outputs": [],
   "source": [
    "np.save('tests/testing_data/signal.npy',tfs_sig)"
   ]
  },
  {
   "cell_type": "code",
   "execution_count": null,
   "metadata": {},
   "outputs": [],
   "source": [
    "plt.figure(figsize=(16,6))\n",
    "plt.plot([np.math.sin(x) for x in np.arange(0,100,0.1)])"
   ]
  },
  {
   "cell_type": "code",
   "execution_count": null,
   "metadata": {},
   "outputs": [],
   "source": []
  },
  {
   "cell_type": "code",
   "execution_count": null,
   "metadata": {},
   "outputs": [],
   "source": []
  },
  {
   "cell_type": "code",
   "execution_count": null,
   "metadata": {},
   "outputs": [],
   "source": [
    "%%writefile test_signal.py\n",
    "import os\n",
    "from parameterized import parameterized\n",
    "import unittest\n",
    "import numpy as np\n",
    "from monai.transforms.signal.array import SignalResample\n",
    "\n",
    "TEST_SIGNAL = os.path.join(os.path.dirname(__file__), \"tests/testing_data\", \"signal.npy\")\n",
    "\n",
    "\n",
    "VALID_CASES = [('interpolation',500,250),('poly',1000,250),('fft',500,250)]\n",
    "\n",
    "class TestSignalResample(unittest.TestCase):\n",
    "        \n",
    "    @parameterized.expand(VALID_CASES)\n",
    "    def test_correct_parameters(self,method,current_sample_rate,target_sample_rate):\n",
    "        self.assertIsInstance(SignalResample(method,current_sample_rate,target_sample_rate),SignalResample)\n",
    "        self.assertGreaterEqual(current_sample_rate,target_sample_rate)\n",
    "        self.assertIn(method,['interpolation','poly','fft'])\n",
    "        sig = np.load(TEST_SIGNAL)\n",
    "        Resampled = SignalResample(method,current_sample_rate,target_sample_rate)\n",
    "        ResampledSignal = Resampled(sig)                     \n",
    "        self.assertEqual(len(ResampledSignal),len(sig))\n",
    "    \n",
    "if __name__ == '__main__':\n",
    "    unittest.main()"
   ]
  },
  {
   "cell_type": "code",
   "execution_count": null,
   "metadata": {},
   "outputs": [],
   "source": [
    "!python ~/NextGen/ANTECH/MONAI/test_signal.py -v"
   ]
  },
  {
   "cell_type": "code",
   "execution_count": null,
   "metadata": {},
   "outputs": [],
   "source": []
  },
  {
   "cell_type": "code",
   "execution_count": null,
   "metadata": {},
   "outputs": [],
   "source": []
  }
 ],
 "metadata": {
  "interpreter": {
   "hash": "2e5a21025fc49def970e0e4b522adbbe1ac256cb17b5a32846b68d1951a90958"
  },
  "kernelspec": {
   "display_name": "Python 3",
   "language": "python",
   "name": "python3"
  },
  "language_info": {
   "codemirror_mode": {
    "name": "ipython",
    "version": 3
   },
   "file_extension": ".py",
   "mimetype": "text/x-python",
   "name": "python",
   "nbconvert_exporter": "python",
   "pygments_lexer": "ipython3",
   "version": "3.8.13"
  }
 },
 "nbformat": 4,
 "nbformat_minor": 2
}
